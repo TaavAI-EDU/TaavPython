{
 "cells": [
  {
   "cell_type": "markdown",
   "id": "553f16be-2515-454c-b87d-e38d96cdcd90",
   "metadata": {},
   "source": [
    "## Linux"
   ]
  },
  {
   "cell_type": "markdown",
   "id": "e16e0c28-2407-4768-b8fd-c02db58cd657",
   "metadata": {},
   "source": [
    "#### Open the Terminal with\n",
    "> Ctrl+Alt+t"
   ]
  },
  {
   "cell_type": "markdown",
   "id": "a1beca37-4664-48e4-9c73-4847fdc87edd",
   "metadata": {},
   "source": [
    "#### 1-Linux Commands:"
   ]
  },
  {
   "cell_type": "markdown",
   "id": "ca8bd7db-bea9-4294-a2d2-68c310fefd34",
   "metadata": {},
   "source": [
    "##### To check the current working directory:"
   ]
  },
  {
   "cell_type": "markdown",
   "id": "93b92c6d-bc14-44ee-ab82-7b0cfccc3fed",
   "metadata": {},
   "source": [
    "> pwd"
   ]
  },
  {
   "cell_type": "markdown",
   "id": "ab83e1b4-3bdf-4de0-8398-1ed81cfd176e",
   "metadata": {},
   "source": [
    "##### list the files and directories which are exits in the current directory"
   ]
  },
  {
   "cell_type": "markdown",
   "id": "92f5978d-012c-49f0-8ea0-66fa72adba1a",
   "metadata": {},
   "source": [
    "> ls"
   ]
  },
  {
   "cell_type": "markdown",
   "id": "1e67e67e-2285-4dbe-85f0-28bb705d899e",
   "metadata": {},
   "source": [
    "#### list all the file and directories even they are hidden"
   ]
  },
  {
   "cell_type": "markdown",
   "id": "567c45fb-2cfc-4fa6-b533-06d473980478",
   "metadata": {},
   "source": [
    "> ls -a"
   ]
  },
  {
   "cell_type": "markdown",
   "id": "8ecf8a86-9560-4fd3-a0d8-8fd04b9fe4bc",
   "metadata": {},
   "source": [
    "> ls   --all"
   ]
  },
  {
   "cell_type": "markdown",
   "id": "e7f14ce6-d879-472f-96fe-29a687a1f1ab",
   "metadata": {},
   "source": [
    "#### Change Directory to the Documents"
   ]
  },
  {
   "cell_type": "markdown",
   "id": "a9f80d32-6be8-49c5-8edc-a5da64d7d570",
   "metadata": {},
   "source": [
    "> cd Documents/"
   ]
  },
  {
   "cell_type": "markdown",
   "id": "7798c15e-4778-4722-aa55-388ca7cd267e",
   "metadata": {},
   "source": [
    "#### What is ~ ?\n",
    "#### In linux commands, ~ means the user that is already loged in.\n",
    "#### So with command 'cd ~' you can get back the user dir from where ever you are.\n",
    "#### For instance the above command move us to the Documents and now by using the next command we get back to the /home/samin path ..."
   ]
  },
  {
   "cell_type": "code",
   "execution_count": 15,
   "id": "79b8f972-e8ba-4e90-8296-22d253f4a44d",
   "metadata": {},
   "outputs": [
    {
     "name": "stdout",
     "output_type": "stream",
     "text": [
      "/home/samin\n"
     ]
    }
   ],
   "source": [
    "cd ~"
   ]
  },
  {
   "cell_type": "code",
   "execution_count": 16,
   "id": "3f9ea327-7b6b-461b-811f-73f518d4c706",
   "metadata": {},
   "outputs": [
    {
     "name": "stdout",
     "output_type": "stream",
     "text": [
      "/home/samin/Documents\n"
     ]
    }
   ],
   "source": [
    "cd Documents/"
   ]
  },
  {
   "cell_type": "code",
   "execution_count": 18,
   "id": "010e1617-e6f6-479f-b8bb-e57f33828739",
   "metadata": {},
   "outputs": [
    {
     "data": {
      "text/plain": [
       "'/home/samin/Documents'"
      ]
     },
     "execution_count": 18,
     "metadata": {},
     "output_type": "execute_result"
    }
   ],
   "source": [
    "pwd"
   ]
  },
  {
   "cell_type": "markdown",
   "id": "531dd7dd-80f7-4a22-96bc-a0225a1255b0",
   "metadata": {},
   "source": [
    "#### Create a directory"
   ]
  },
  {
   "cell_type": "markdown",
   "id": "56feb43a-ad17-4266-b44b-97461a19b67f",
   "metadata": {},
   "source": [
    "> mkdir new_folder"
   ]
  },
  {
   "cell_type": "markdown",
   "id": "a1109add-ad30-4560-bfa9-df8e2470ff3b",
   "metadata": {},
   "source": [
    "#### This will make a folder named \"new_folder\""
   ]
  },
  {
   "cell_type": "markdown",
   "id": "6af80bb8-f62f-470d-8455-70fa9ced42d7",
   "metadata": {},
   "source": [
    "#### Create a new file with .txt extension"
   ]
  },
  {
   "cell_type": "markdown",
   "id": "8703f0c1-24f5-4c0f-87c0-f0fa311b993d",
   "metadata": {},
   "source": [
    "> touch test.txt"
   ]
  },
  {
   "cell_type": "markdown",
   "id": "f3f07644-cf09-48bf-a9bd-2c50881bc0b4",
   "metadata": {},
   "source": [
    "#### To remove a folder and a dir, we need just 'rm' command."
   ]
  },
  {
   "cell_type": "markdown",
   "id": "d6bb2793-f34b-4b43-b97e-7a3b678809ef",
   "metadata": {},
   "source": [
    "> rm test.txt"
   ]
  },
  {
   "cell_type": "markdown",
   "id": "d1b89e11-f6de-4f8b-a4da-6ff7327b2dc0",
   "metadata": {},
   "source": [
    "> rem -r new_folder"
   ]
  },
  {
   "cell_type": "markdown",
   "id": "ef836e12-de15-4cab-b6c9-581dee0a2c23",
   "metadata": {},
   "source": [
    "#### -r for directories\n",
    "#### Allow recursive removal when a leading directory name is given."
   ]
  },
  {
   "cell_type": "markdown",
   "id": "ce17e285-26d9-438d-b903-ad0997877f59",
   "metadata": {},
   "source": [
    "#### After all these command lines, it is time to have other tools for python programming:\n",
    "\n",
    "### 1- installing python3.11\n",
    "### 2- creating virtual environment with python3.11"
   ]
  },
  {
   "cell_type": "markdown",
   "id": "52553ca7-4859-467f-bb53-5a0e2e3ab01b",
   "metadata": {},
   "source": [
    "#### for installing Python use this  [link](https://www.linuxcapable.com/how-to-install-python-3-11-on-ubuntu-linux/)"
   ]
  },
  {
   "cell_type": "markdown",
   "id": "5d0c05cb-2d80-4dca-a145-909fd054dbfa",
   "metadata": {},
   "source": [
    "#### After installing the python3.11, creat a virtual environment. To do this use this [link](https://docs.python.org/3/library/venv.html)"
   ]
  },
  {
   "cell_type": "markdown",
   "id": "8db5c97d-88b8-4269-92db-91a043e86a95",
   "metadata": {},
   "source": [
    "### the command for creating a virtual environment whit python3.11:\n",
    "> python3.11 -m venv your_environment\n",
    "\n",
    "#### It is best practice that use a point befor the name of env, like:\n",
    "> python3.11 -m venv .myenv"
   ]
  },
  {
   "cell_type": "markdown",
   "id": "ea7bc4d6-f492-4250-8c70-53af7a459456",
   "metadata": {},
   "source": [
    "### How to activate the environment:\n",
    "\n",
    "> source .myenv/bin/activate"
   ]
  },
  {
   "cell_type": "markdown",
   "id": "fd8a05dc-2969-48c3-9c71-74333c161445",
   "metadata": {},
   "source": [
    "#### After the activation, an other tool is needed before coding, \"Jupyter Lab\" or \"Jupyter Notebook\". \n",
    "##### No need to install both."
   ]
  },
  {
   "cell_type": "markdown",
   "id": "30efb0a6-9fc8-426a-927b-84e419cf91fc",
   "metadata": {},
   "source": [
    "> pip install jupyterlab"
   ]
  },
  {
   "cell_type": "markdown",
   "id": "22a1a73d-5e00-4ca2-a65d-b8d63e94f46b",
   "metadata": {},
   "source": [
    "#### To run the jupyter lab, write the below command:\n",
    "\n",
    "> jupyter lab"
   ]
  },
  {
   "cell_type": "markdown",
   "id": "de3c9781-3c62-48fd-b2d8-da39586233c4",
   "metadata": {},
   "source": [
    "> pip install notebook"
   ]
  },
  {
   "cell_type": "markdown",
   "id": "98e84018-87ab-4930-b736-78599d34f3b4",
   "metadata": {},
   "source": [
    "#### To run the jupyter lab, write the below command:\n",
    "\n",
    "> jupyter lab"
   ]
  },
  {
   "cell_type": "markdown",
   "id": "a6928290-307b-4588-837d-3378e3cf3ecd",
   "metadata": {},
   "source": [
    "## And Now, Here We Go...."
   ]
  }
 ],
 "metadata": {
  "kernelspec": {
   "display_name": "Python 3 (ipykernel)",
   "language": "python",
   "name": "python3"
  },
  "language_info": {
   "codemirror_mode": {
    "name": "ipython",
    "version": 3
   },
   "file_extension": ".py",
   "mimetype": "text/x-python",
   "name": "python",
   "nbconvert_exporter": "python",
   "pygments_lexer": "ipython3",
   "version": "3.10.4"
  }
 },
 "nbformat": 4,
 "nbformat_minor": 5
}
