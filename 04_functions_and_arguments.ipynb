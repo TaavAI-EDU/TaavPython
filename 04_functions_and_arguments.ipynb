{
 "cells": [
  {
   "cell_type": "markdown",
   "id": "af84b7d0-6a68-475f-8966-1fa26a63040e",
   "metadata": {},
   "source": [
    "### Functions and Arguments"
   ]
  },
  {
   "cell_type": "code",
   "execution_count": 3,
   "id": "ce9a5149-a605-4128-913c-2e29241b4ea8",
   "metadata": {},
   "outputs": [],
   "source": [
    "def my_function():\n",
    "\n",
    "    return \"Done\""
   ]
  },
  {
   "cell_type": "code",
   "execution_count": 4,
   "id": "7ab371d4-6def-42f1-9e6d-655d39c66b6a",
   "metadata": {},
   "outputs": [
    {
     "data": {
      "text/plain": [
       "'Done'"
      ]
     },
     "execution_count": 4,
     "metadata": {},
     "output_type": "execute_result"
    }
   ],
   "source": [
    "my_function()"
   ]
  },
  {
   "cell_type": "markdown",
   "id": "2bdfc9cd-5712-407e-af84-eeb5295bf7a7",
   "metadata": {},
   "source": [
    "#### Positional and key word arguments:"
   ]
  },
  {
   "cell_type": "code",
   "execution_count": 16,
   "id": "3681789c-2e5e-419a-9767-f4b21f47cb2d",
   "metadata": {},
   "outputs": [],
   "source": [
    "def posi_kw_args(a, b):\n",
    "\n",
    "    return (a,b)"
   ]
  },
  {
   "cell_type": "code",
   "execution_count": 13,
   "id": "27abe21d-fe82-48a5-94f5-9dc8548b9bf7",
   "metadata": {},
   "outputs": [
    {
     "data": {
      "text/plain": [
       "(1, 2)"
      ]
     },
     "execution_count": 13,
     "metadata": {},
     "output_type": "execute_result"
    }
   ],
   "source": [
    "posi_kw_args(1, 2)"
   ]
  },
  {
   "cell_type": "code",
   "execution_count": 14,
   "id": "55921781-42d9-48d3-bf70-59c91763a183",
   "metadata": {},
   "outputs": [
    {
     "data": {
      "text/plain": [
       "(1, 2)"
      ]
     },
     "execution_count": 14,
     "metadata": {},
     "output_type": "execute_result"
    }
   ],
   "source": [
    "posi_kw_args(a=1, b=2)"
   ]
  },
  {
   "cell_type": "code",
   "execution_count": 15,
   "id": "9b3fbb66-5052-4595-a9f9-626c0c1340bb",
   "metadata": {},
   "outputs": [
    {
     "data": {
      "text/plain": [
       "(2, 1)"
      ]
     },
     "execution_count": 15,
     "metadata": {},
     "output_type": "execute_result"
    }
   ],
   "source": [
    "posi_kw_args(b=1, a=2)"
   ]
  },
  {
   "cell_type": "markdown",
   "id": "3a138533-13e2-4e8f-99f0-b960d9a98e1c",
   "metadata": {},
   "source": [
    "### Only Positional Args:"
   ]
  },
  {
   "cell_type": "code",
   "execution_count": 17,
   "id": "07b89822-ac6f-455b-983a-e340aa75127c",
   "metadata": {},
   "outputs": [],
   "source": [
    "def only_posi_args(a, b, /):\n",
    "\n",
    "    return (a, b)"
   ]
  },
  {
   "cell_type": "code",
   "execution_count": 18,
   "id": "ebe2abb7-ad5b-4be0-9e59-7c03e4b727c4",
   "metadata": {},
   "outputs": [
    {
     "ename": "TypeError",
     "evalue": "only_posi_args() got some positional-only arguments passed as keyword arguments: 'a, b'",
     "output_type": "error",
     "traceback": [
      "\u001b[0;31m---------------------------------------------------------------------------\u001b[0m",
      "\u001b[0;31mTypeError\u001b[0m                                 Traceback (most recent call last)",
      "Cell \u001b[0;32mIn[18], line 1\u001b[0m\n\u001b[0;32m----> 1\u001b[0m \u001b[43monly_posi_args\u001b[49m\u001b[43m(\u001b[49m\u001b[43ma\u001b[49m\u001b[38;5;241;43m=\u001b[39;49m\u001b[38;5;241;43m4\u001b[39;49m\u001b[43m,\u001b[49m\u001b[43m \u001b[49m\u001b[43mb\u001b[49m\u001b[38;5;241;43m=\u001b[39;49m\u001b[38;5;241;43m5\u001b[39;49m\u001b[43m)\u001b[49m\n",
      "\u001b[0;31mTypeError\u001b[0m: only_posi_args() got some positional-only arguments passed as keyword arguments: 'a, b'"
     ]
    }
   ],
   "source": [
    "only_posi_args(a=4, b=5)"
   ]
  },
  {
   "cell_type": "markdown",
   "id": "1a7d5002-e007-4de6-8815-ed9a3fc8d4d9",
   "metadata": {},
   "source": [
    "> Because it is neseccery to call it like fun(1, 2) no need the names of params!"
   ]
  },
  {
   "cell_type": "code",
   "execution_count": 19,
   "id": "043d8f1e-fee1-40b5-aedd-e3e9a55bd85a",
   "metadata": {},
   "outputs": [
    {
     "data": {
      "text/plain": [
       "(4, 5)"
      ]
     },
     "execution_count": 19,
     "metadata": {},
     "output_type": "execute_result"
    }
   ],
   "source": [
    "only_posi_args(4, 5)"
   ]
  },
  {
   "cell_type": "markdown",
   "id": "3382b72f-dbdb-4134-9ae5-4df9eaa70b61",
   "metadata": {},
   "source": [
    "### Only Key Word args:"
   ]
  },
  {
   "cell_type": "code",
   "execution_count": 20,
   "id": "b533872f-b895-481f-bfdc-665d652a3d4a",
   "metadata": {},
   "outputs": [],
   "source": [
    "def fun(*, a, b, c):\n",
    "\n",
    "    return a, b, c"
   ]
  },
  {
   "cell_type": "code",
   "execution_count": 21,
   "id": "2c55cdea-3efa-4792-b990-f06f561398ea",
   "metadata": {},
   "outputs": [
    {
     "ename": "TypeError",
     "evalue": "fun() takes 0 positional arguments but 3 were given",
     "output_type": "error",
     "traceback": [
      "\u001b[0;31m---------------------------------------------------------------------------\u001b[0m",
      "\u001b[0;31mTypeError\u001b[0m                                 Traceback (most recent call last)",
      "Cell \u001b[0;32mIn[21], line 1\u001b[0m\n\u001b[0;32m----> 1\u001b[0m \u001b[43mfun\u001b[49m\u001b[43m(\u001b[49m\u001b[38;5;241;43m1\u001b[39;49m\u001b[43m,\u001b[49m\u001b[43m \u001b[49m\u001b[38;5;124;43m'\u001b[39;49m\u001b[38;5;124;43mmy word\u001b[39;49m\u001b[38;5;124;43m'\u001b[39;49m\u001b[43m,\u001b[49m\u001b[43m \u001b[49m\u001b[38;5;241;43m2\u001b[39;49m\u001b[43m)\u001b[49m\n",
      "\u001b[0;31mTypeError\u001b[0m: fun() takes 0 positional arguments but 3 were given"
     ]
    }
   ],
   "source": [
    "fun(1, 'my word', 2)"
   ]
  },
  {
   "cell_type": "code",
   "execution_count": 22,
   "id": "d7ee9b8d-3ef9-4ce2-a695-8bd3b78b44c1",
   "metadata": {},
   "outputs": [
    {
     "data": {
      "text/plain": [
       "(1, 'my word', 6)"
      ]
     },
     "execution_count": 22,
     "metadata": {},
     "output_type": "execute_result"
    }
   ],
   "source": [
    "fun(a=1, c=6, b='my word')"
   ]
  },
  {
   "cell_type": "markdown",
   "id": "3946d883-5a86-4494-bead-ca09d5f0a649",
   "metadata": {},
   "source": [
    "#### Now Mix them:"
   ]
  },
  {
   "cell_type": "code",
   "execution_count": 50,
   "id": "b5fd660d-6248-4aae-a625-a60508075652",
   "metadata": {},
   "outputs": [],
   "source": [
    "def mix(a, b, /, *, c):\n",
    "\n",
    "    return a, b, c"
   ]
  },
  {
   "cell_type": "code",
   "execution_count": 53,
   "id": "caf5fe1f-7056-447f-bde2-edded3a6009b",
   "metadata": {},
   "outputs": [
    {
     "ename": "TypeError",
     "evalue": "mix() takes 2 positional arguments but 3 were given",
     "output_type": "error",
     "traceback": [
      "\u001b[0;31m---------------------------------------------------------------------------\u001b[0m",
      "\u001b[0;31mTypeError\u001b[0m                                 Traceback (most recent call last)",
      "Cell \u001b[0;32mIn[53], line 1\u001b[0m\n\u001b[0;32m----> 1\u001b[0m \u001b[43mmix\u001b[49m\u001b[43m(\u001b[49m\u001b[38;5;241;43m1\u001b[39;49m\u001b[43m,\u001b[49m\u001b[43m \u001b[49m\u001b[38;5;241;43m2\u001b[39;49m\u001b[43m,\u001b[49m\u001b[43m \u001b[49m\u001b[38;5;241;43m3\u001b[39;49m\u001b[43m)\u001b[49m\n",
      "\u001b[0;31mTypeError\u001b[0m: mix() takes 2 positional arguments but 3 were given"
     ]
    }
   ],
   "source": [
    "mix(1, 2, 3)"
   ]
  },
  {
   "cell_type": "code",
   "execution_count": 54,
   "id": "76d1d417-b079-4c3e-b4bc-fdf35d2633e9",
   "metadata": {},
   "outputs": [
    {
     "ename": "TypeError",
     "evalue": "mix() got some positional-only arguments passed as keyword arguments: 'a, b'",
     "output_type": "error",
     "traceback": [
      "\u001b[0;31m---------------------------------------------------------------------------\u001b[0m",
      "\u001b[0;31mTypeError\u001b[0m                                 Traceback (most recent call last)",
      "Cell \u001b[0;32mIn[54], line 1\u001b[0m\n\u001b[0;32m----> 1\u001b[0m \u001b[43mmix\u001b[49m\u001b[43m(\u001b[49m\u001b[43ma\u001b[49m\u001b[38;5;241;43m=\u001b[39;49m\u001b[38;5;241;43m1\u001b[39;49m\u001b[43m,\u001b[49m\u001b[43m \u001b[49m\u001b[43mb\u001b[49m\u001b[38;5;241;43m=\u001b[39;49m\u001b[38;5;241;43m2\u001b[39;49m\u001b[43m,\u001b[49m\u001b[43m \u001b[49m\u001b[43mc\u001b[49m\u001b[38;5;241;43m=\u001b[39;49m\u001b[38;5;241;43m3\u001b[39;49m\u001b[43m)\u001b[49m\n",
      "\u001b[0;31mTypeError\u001b[0m: mix() got some positional-only arguments passed as keyword arguments: 'a, b'"
     ]
    }
   ],
   "source": [
    "mix(a=1, b=2, c=3)"
   ]
  },
  {
   "cell_type": "code",
   "execution_count": 55,
   "id": "009f4a77-3a8b-4b4a-a121-9f3218aa86ef",
   "metadata": {},
   "outputs": [
    {
     "data": {
      "text/plain": [
       "(1, 2, 3)"
      ]
     },
     "execution_count": 55,
     "metadata": {},
     "output_type": "execute_result"
    }
   ],
   "source": [
    "mix(1, 2, c=3)"
   ]
  },
  {
   "cell_type": "code",
   "execution_count": null,
   "id": "4a0891ef-e4b2-4f83-a1bc-758c383ff495",
   "metadata": {},
   "outputs": [],
   "source": []
  },
  {
   "cell_type": "markdown",
   "id": "b61ea3c8-eaa5-43d4-bca8-efc832f1ef1d",
   "metadata": {},
   "source": [
    "## *args:"
   ]
  },
  {
   "cell_type": "code",
   "execution_count": 38,
   "id": "b0caef97-8670-419f-9958-84a8fdfa5ffd",
   "metadata": {},
   "outputs": [],
   "source": [
    "def f_2(a, b, *args):\n",
    "\n",
    "    return a, b, args"
   ]
  },
  {
   "cell_type": "code",
   "execution_count": 39,
   "id": "c90420d6-ada7-4632-84c8-1a78dc42b536",
   "metadata": {},
   "outputs": [
    {
     "data": {
      "text/plain": [
       "(1, 2, (3, 4, 'a', 5.5))"
      ]
     },
     "execution_count": 39,
     "metadata": {},
     "output_type": "execute_result"
    }
   ],
   "source": [
    "f_2(1, 2, 3, 4, 'a', 5.5)"
   ]
  },
  {
   "cell_type": "markdown",
   "id": "0715be36-6ff5-4e2f-b060-2ad9f608bb5e",
   "metadata": {},
   "source": [
    "### NOTE: The positional arguments must come BEFORE the keyword arguments. "
   ]
  },
  {
   "cell_type": "code",
   "execution_count": 45,
   "id": "328fb9c9-c04d-40cb-acfd-3e07d94300f1",
   "metadata": {},
   "outputs": [
    {
     "ename": "SyntaxError",
     "evalue": "positional argument follows keyword argument (3371560006.py, line 1)",
     "output_type": "error",
     "traceback": [
      "\u001b[0;36m  Cell \u001b[0;32mIn[45], line 1\u001b[0;36m\u001b[0m\n\u001b[0;31m    f_2(a=1, b=2, 3, 4, 'a', 5.5)\u001b[0m\n\u001b[0m                                ^\u001b[0m\n\u001b[0;31mSyntaxError\u001b[0m\u001b[0;31m:\u001b[0m positional argument follows keyword argument\n"
     ]
    }
   ],
   "source": [
    "f_2(a=1, b=2, 3, 4, 'a', 5.5)"
   ]
  },
  {
   "cell_type": "code",
   "execution_count": 63,
   "id": "55d46db9-0dc1-4207-9483-68a55364d0f2",
   "metadata": {},
   "outputs": [
    {
     "data": {
      "text/plain": [
       "(1, 2, (3,))"
      ]
     },
     "execution_count": 63,
     "metadata": {},
     "output_type": "execute_result"
    }
   ],
   "source": [
    "f_2(1, 2, 3)"
   ]
  },
  {
   "cell_type": "code",
   "execution_count": 68,
   "id": "c8363c70-4656-44e2-86be-ddc8811de1ef",
   "metadata": {},
   "outputs": [
    {
     "ename": "SyntaxError",
     "evalue": "positional argument follows keyword argument (2617921667.py, line 1)",
     "output_type": "error",
     "traceback": [
      "\u001b[0;36m  Cell \u001b[0;32mIn[68], line 1\u001b[0;36m\u001b[0m\n\u001b[0;31m    f_2(a=1, b=2, 3)\u001b[0m\n\u001b[0m                   ^\u001b[0m\n\u001b[0;31mSyntaxError\u001b[0m\u001b[0;31m:\u001b[0m positional argument follows keyword argument\n"
     ]
    }
   ],
   "source": [
    "f_2(a=1, b=2, 3)"
   ]
  },
  {
   "cell_type": "code",
   "execution_count": 48,
   "id": "97f7ae8f-a4f3-4124-bf4c-0dd018f526b9",
   "metadata": {},
   "outputs": [],
   "source": [
    "def f_3(a, b, *args, c):\n",
    "\n",
    "    print(\"a is: \", a)\n",
    "    print(\"b is: \", b)\n",
    "    print(\"*args is: \", args)\n",
    "    print(\"c is: \", c)"
   ]
  },
  {
   "cell_type": "code",
   "execution_count": 49,
   "id": "2adc1b0b-2049-437c-b3ef-0c87cfb25f8b",
   "metadata": {},
   "outputs": [
    {
     "name": "stdout",
     "output_type": "stream",
     "text": [
      "a is:  1\n",
      "b is:  2\n",
      "*args is:  (3, 4)\n",
      "c is:  c\n"
     ]
    }
   ],
   "source": [
    "f_3(1, 2, 3, 4, c='c')"
   ]
  },
  {
   "cell_type": "markdown",
   "id": "3846cffe-794a-4465-a3cc-476d9410fe3a",
   "metadata": {},
   "source": [
    "## **kwargs:"
   ]
  },
  {
   "cell_type": "code",
   "execution_count": 57,
   "id": "5182cd0c-db48-4561-8a84-8aceae8e59dd",
   "metadata": {},
   "outputs": [],
   "source": [
    "def f_4(a, b, **kwargs):\n",
    "\n",
    "    return a, b, kwargs"
   ]
  },
  {
   "cell_type": "code",
   "execution_count": 60,
   "id": "cf8a3a35-3b5f-4151-8df2-b23ab92ff335",
   "metadata": {},
   "outputs": [
    {
     "ename": "TypeError",
     "evalue": "f_4() takes 2 positional arguments but 3 were given",
     "output_type": "error",
     "traceback": [
      "\u001b[0;31m---------------------------------------------------------------------------\u001b[0m",
      "\u001b[0;31mTypeError\u001b[0m                                 Traceback (most recent call last)",
      "Cell \u001b[0;32mIn[60], line 1\u001b[0m\n\u001b[0;32m----> 1\u001b[0m \u001b[43mf_4\u001b[49m\u001b[43m(\u001b[49m\u001b[38;5;241;43m1\u001b[39;49m\u001b[43m,\u001b[49m\u001b[43m \u001b[49m\u001b[38;5;241;43m2\u001b[39;49m\u001b[43m,\u001b[49m\u001b[43m \u001b[49m\u001b[38;5;241;43m3\u001b[39;49m\u001b[43m)\u001b[49m\n",
      "\u001b[0;31mTypeError\u001b[0m: f_4() takes 2 positional arguments but 3 were given"
     ]
    }
   ],
   "source": [
    "f_4(1, 2, 3)"
   ]
  },
  {
   "cell_type": "code",
   "execution_count": 61,
   "id": "de494aa2-b164-4220-b223-905cd1382798",
   "metadata": {},
   "outputs": [
    {
     "data": {
      "text/plain": [
       "(1, 2, {'c': 3, 'd': 4, 'e': 5})"
      ]
     },
     "execution_count": 61,
     "metadata": {},
     "output_type": "execute_result"
    }
   ],
   "source": [
    "f_4(1, 2, c=3, d=4, e=5)"
   ]
  },
  {
   "cell_type": "code",
   "execution_count": 62,
   "id": "6dde249c-0c02-4de5-8cec-eb8388cb7126",
   "metadata": {},
   "outputs": [
    {
     "data": {
      "text/plain": [
       "(1, 2, {'c': 3, 'd': 4})"
      ]
     },
     "execution_count": 62,
     "metadata": {},
     "output_type": "execute_result"
    }
   ],
   "source": [
    "f_4(a=1, b=2, c=3, d=4)"
   ]
  },
  {
   "cell_type": "code",
   "execution_count": 70,
   "id": "74b16adb-f54c-401c-bc5c-634de8401cbb",
   "metadata": {},
   "outputs": [
    {
     "ename": "SyntaxError",
     "evalue": "arguments cannot follow var-keyword argument (2613267811.py, line 3)",
     "output_type": "error",
     "traceback": [
      "\u001b[0;36m  Cell \u001b[0;32mIn[70], line 3\u001b[0;36m\u001b[0m\n\u001b[0;31m    def f_5(a, b, **kwargs, c):\u001b[0m\n\u001b[0m                            ^\u001b[0m\n\u001b[0;31mSyntaxError\u001b[0m\u001b[0;31m:\u001b[0m arguments cannot follow var-keyword argument\n"
     ]
    }
   ],
   "source": [
    "# Good Point\n",
    "\n",
    "def f_5(a, b, **kwargs, c):\n",
    "\n",
    "    return a, b, kwargs, c"
   ]
  },
  {
   "cell_type": "code",
   "execution_count": null,
   "id": "c42f16a4-d15c-45fe-9899-b8b29cf90da2",
   "metadata": {},
   "outputs": [],
   "source": []
  }
 ],
 "metadata": {
  "kernelspec": {
   "display_name": "Python 3 (ipykernel)",
   "language": "python",
   "name": "python3"
  },
  "language_info": {
   "codemirror_mode": {
    "name": "ipython",
    "version": 3
   },
   "file_extension": ".py",
   "mimetype": "text/x-python",
   "name": "python",
   "nbconvert_exporter": "python",
   "pygments_lexer": "ipython3",
   "version": "3.10.12"
  }
 },
 "nbformat": 4,
 "nbformat_minor": 5
}
