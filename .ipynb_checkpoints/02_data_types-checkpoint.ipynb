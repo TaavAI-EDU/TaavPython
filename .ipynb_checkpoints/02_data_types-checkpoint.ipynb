{
 "cells": [
  {
   "cell_type": "markdown",
   "id": "d021a4b4-30d5-4ce5-b34e-a103c359dcf2",
   "metadata": {},
   "source": [
    "### Data Types"
   ]
  },
  {
   "cell_type": "markdown",
   "id": "39730e02-c528-4c56-a7a1-2452dfa8ffaa",
   "metadata": {},
   "source": [
    "##### numbers, strings and boolean"
   ]
  },
  {
   "cell_type": "code",
   "execution_count": 1,
   "id": "d0e10f3e-276f-468e-8317-aa6ece96ead7",
   "metadata": {},
   "outputs": [
    {
     "data": {
      "text/plain": [
       "5"
      ]
     },
     "execution_count": 1,
     "metadata": {},
     "output_type": "execute_result"
    }
   ],
   "source": [
    "5"
   ]
  },
  {
   "cell_type": "code",
   "execution_count": 2,
   "id": "f634a0ef-a913-4432-b20a-6f29442108f7",
   "metadata": {},
   "outputs": [
    {
     "data": {
      "text/plain": [
       "int"
      ]
     },
     "execution_count": 2,
     "metadata": {},
     "output_type": "execute_result"
    }
   ],
   "source": [
    "type(5)"
   ]
  },
  {
   "cell_type": "code",
   "execution_count": 3,
   "id": "ba6e6492-518e-4842-bb6c-41e04bc8bd64",
   "metadata": {},
   "outputs": [
    {
     "data": {
      "text/plain": [
       "5.5"
      ]
     },
     "execution_count": 3,
     "metadata": {},
     "output_type": "execute_result"
    }
   ],
   "source": [
    "5.5"
   ]
  },
  {
   "cell_type": "code",
   "execution_count": 4,
   "id": "9a0832a2-e770-4353-8b86-4a356f3c46c4",
   "metadata": {},
   "outputs": [
    {
     "data": {
      "text/plain": [
       "float"
      ]
     },
     "execution_count": 4,
     "metadata": {},
     "output_type": "execute_result"
    }
   ],
   "source": [
    "type(5.5)"
   ]
  },
  {
   "cell_type": "code",
   "execution_count": 7,
   "id": "88d14df9-dc1e-4d33-91f6-9cbc70a6da0c",
   "metadata": {},
   "outputs": [
    {
     "data": {
      "text/plain": [
       "(5+6j)"
      ]
     },
     "execution_count": 7,
     "metadata": {},
     "output_type": "execute_result"
    }
   ],
   "source": [
    "5 + 6j"
   ]
  },
  {
   "cell_type": "code",
   "execution_count": 8,
   "id": "50ccbc81-eef4-47bb-a478-a44b2850aacf",
   "metadata": {},
   "outputs": [
    {
     "data": {
      "text/plain": [
       "complex"
      ]
     },
     "execution_count": 8,
     "metadata": {},
     "output_type": "execute_result"
    }
   ],
   "source": [
    "type(5+6j)"
   ]
  },
  {
   "cell_type": "code",
   "execution_count": 5,
   "id": "57fc20de-a9db-48c6-9d08-fd8bff7325e0",
   "metadata": {},
   "outputs": [
    {
     "data": {
      "text/plain": [
       "True"
      ]
     },
     "execution_count": 5,
     "metadata": {},
     "output_type": "execute_result"
    }
   ],
   "source": [
    "True"
   ]
  },
  {
   "cell_type": "code",
   "execution_count": 6,
   "id": "0e66129d-5f64-4b11-8f15-488450fd2056",
   "metadata": {},
   "outputs": [
    {
     "data": {
      "text/plain": [
       "bool"
      ]
     },
     "execution_count": 6,
     "metadata": {},
     "output_type": "execute_result"
    }
   ],
   "source": [
    "type(True)"
   ]
  },
  {
   "cell_type": "code",
   "execution_count": 9,
   "id": "300936ee-9ad8-4d64-98b6-8b81e3f7b8ff",
   "metadata": {},
   "outputs": [
    {
     "data": {
      "text/plain": [
       "'python'"
      ]
     },
     "execution_count": 9,
     "metadata": {},
     "output_type": "execute_result"
    }
   ],
   "source": [
    "\"python\""
   ]
  },
  {
   "cell_type": "code",
   "execution_count": 10,
   "id": "08a3e0c6-64da-481c-8b14-a4694c40eb0a",
   "metadata": {},
   "outputs": [
    {
     "data": {
      "text/plain": [
       "str"
      ]
     },
     "execution_count": 10,
     "metadata": {},
     "output_type": "execute_result"
    }
   ],
   "source": [
    "type(\"python\")"
   ]
  },
  {
   "cell_type": "markdown",
   "id": "98703ec1-6337-4159-bed7-6f76c2f1f52a",
   "metadata": {},
   "source": [
    "#### As you see there are different data types like: integers, floats, imaginary numbers\n",
    "#### boolean and strings.\n",
    "\n",
    "\n",
    "#### Besides, in python there are composition data types that use those types together. Such as: list, tuple, set and dictionary."
   ]
  },
  {
   "cell_type": "markdown",
   "id": "e3fd0616-ad07-43cd-b400-810e933ce90d",
   "metadata": {},
   "source": [
    "## List\n",
    "\n",
    "#### It defines with [] and contains all data types: Numbers, Strings and also Boolean."
   ]
  },
  {
   "cell_type": "code",
   "execution_count": 23,
   "id": "9ddc9fa2-bd55-45c9-b8cb-2bd7d5b6de8e",
   "metadata": {},
   "outputs": [],
   "source": [
    "my_list = [1, 'abc', 4.5, True]"
   ]
  },
  {
   "cell_type": "markdown",
   "id": "92624348-c633-44b6-a186-e76899455084",
   "metadata": {},
   "source": [
    "### For accessing the elements in a list we need to use the index:"
   ]
  },
  {
   "cell_type": "code",
   "execution_count": 12,
   "id": "cefe79b9-9f48-48d3-944a-27f1a86f9325",
   "metadata": {},
   "outputs": [
    {
     "data": {
      "text/plain": [
       "1"
      ]
     },
     "execution_count": 12,
     "metadata": {},
     "output_type": "execute_result"
    }
   ],
   "source": [
    "my_list[0]  # It always starts by 0"
   ]
  },
  {
   "cell_type": "markdown",
   "id": "fd80ba97-e69d-4eb3-a9c6-b74910fb384b",
   "metadata": {},
   "source": [
    "### To access the last element:"
   ]
  },
  {
   "cell_type": "code",
   "execution_count": 13,
   "id": "0a46fb0c-a7a3-4235-9b81-5f8733c139b0",
   "metadata": {},
   "outputs": [
    {
     "data": {
      "text/plain": [
       "True"
      ]
     },
     "execution_count": 13,
     "metadata": {},
     "output_type": "execute_result"
    }
   ],
   "source": [
    "my_list[-1]"
   ]
  },
  {
   "cell_type": "code",
   "execution_count": 14,
   "id": "804eac47-ecf4-4e95-ac98-6f12ccd764fb",
   "metadata": {
    "scrolled": true
   },
   "outputs": [
    {
     "data": {
      "text/plain": [
       "['__add__',\n",
       " '__class__',\n",
       " '__class_getitem__',\n",
       " '__contains__',\n",
       " '__delattr__',\n",
       " '__delitem__',\n",
       " '__dir__',\n",
       " '__doc__',\n",
       " '__eq__',\n",
       " '__format__',\n",
       " '__ge__',\n",
       " '__getattribute__',\n",
       " '__getitem__',\n",
       " '__getstate__',\n",
       " '__gt__',\n",
       " '__hash__',\n",
       " '__iadd__',\n",
       " '__imul__',\n",
       " '__init__',\n",
       " '__init_subclass__',\n",
       " '__iter__',\n",
       " '__le__',\n",
       " '__len__',\n",
       " '__lt__',\n",
       " '__mul__',\n",
       " '__ne__',\n",
       " '__new__',\n",
       " '__reduce__',\n",
       " '__reduce_ex__',\n",
       " '__repr__',\n",
       " '__reversed__',\n",
       " '__rmul__',\n",
       " '__setattr__',\n",
       " '__setitem__',\n",
       " '__sizeof__',\n",
       " '__str__',\n",
       " '__subclasshook__',\n",
       " 'append',\n",
       " 'clear',\n",
       " 'copy',\n",
       " 'count',\n",
       " 'extend',\n",
       " 'index',\n",
       " 'insert',\n",
       " 'pop',\n",
       " 'remove',\n",
       " 'reverse',\n",
       " 'sort']"
      ]
     },
     "execution_count": 14,
     "metadata": {},
     "output_type": "execute_result"
    }
   ],
   "source": [
    "dir(my_list)"
   ]
  },
  {
   "cell_type": "code",
   "execution_count": 15,
   "id": "09c6145e-4c51-43ab-9efc-752b12e45296",
   "metadata": {},
   "outputs": [
    {
     "data": {
      "text/plain": [
       "2"
      ]
     },
     "execution_count": 15,
     "metadata": {},
     "output_type": "execute_result"
    }
   ],
   "source": [
    "my_list.index(4.5)"
   ]
  },
  {
   "cell_type": "markdown",
   "id": "4311d716-1847-42bf-84cd-b1ab70143393",
   "metadata": {},
   "source": [
    "> to know the index of a specific element, using index() method would make it as easy as a piece of cake ^_^"
   ]
  },
  {
   "cell_type": "markdown",
   "id": "e0e6f7c2-04cb-4857-9018-2e1c2f91e2f1",
   "metadata": {},
   "source": [
    "### Slicing:"
   ]
  },
  {
   "cell_type": "markdown",
   "id": "d376293f-5289-429f-ac6e-37d48367750a",
   "metadata": {},
   "source": [
    "##### Some times it is necessary to slice the list:"
   ]
  },
  {
   "cell_type": "code",
   "execution_count": 17,
   "id": "db28c77f-40af-4a7c-81e7-3659ce17947f",
   "metadata": {},
   "outputs": [
    {
     "data": {
      "text/plain": [
       "['abc', 4.5, True]"
      ]
     },
     "execution_count": 17,
     "metadata": {},
     "output_type": "execute_result"
    }
   ],
   "source": [
    "my_list[1:4]  #start : stop : step"
   ]
  },
  {
   "cell_type": "code",
   "execution_count": 18,
   "id": "00c71016-b9e5-4753-a181-65459ed5eadf",
   "metadata": {},
   "outputs": [
    {
     "data": {
      "text/plain": [
       "[1, 4.5]"
      ]
     },
     "execution_count": 18,
     "metadata": {},
     "output_type": "execute_result"
    }
   ],
   "source": [
    "my_list[::2]"
   ]
  },
  {
   "cell_type": "markdown",
   "id": "6f6cfd2d-9b2b-4079-9341-2a4c74ffa36a",
   "metadata": {},
   "source": [
    "> leave it empty means the from first index to the last but step 2."
   ]
  },
  {
   "cell_type": "markdown",
   "id": "df51b52b-63c6-46c3-ba74-bfbea12011e8",
   "metadata": {},
   "source": [
    "### Lists are mutable\n",
    "##### They can change"
   ]
  },
  {
   "cell_type": "code",
   "execution_count": 24,
   "id": "e8f7177b-e165-4880-8f8c-72796c0d5e9f",
   "metadata": {},
   "outputs": [
    {
     "data": {
      "text/plain": [
       "[1, 'abc', 4.5, True]"
      ]
     },
     "execution_count": 24,
     "metadata": {},
     "output_type": "execute_result"
    }
   ],
   "source": [
    "my_list"
   ]
  },
  {
   "cell_type": "code",
   "execution_count": 25,
   "id": "19c42ac7-c120-4a4c-8b73-b60d7068f5c8",
   "metadata": {},
   "outputs": [
    {
     "data": {
      "text/plain": [
       "[1, 'abc', 4.5, False]"
      ]
     },
     "execution_count": 25,
     "metadata": {},
     "output_type": "execute_result"
    }
   ],
   "source": [
    "my_list[-1] = False\n",
    "my_list"
   ]
  },
  {
   "cell_type": "markdown",
   "id": "9f95b6b7-fa38-45c0-9404-8d9736d9518f",
   "metadata": {},
   "source": [
    "### They can be nested:"
   ]
  },
  {
   "cell_type": "code",
   "execution_count": 26,
   "id": "a617ed73-25f2-4869-a303-052a7b0ced99",
   "metadata": {},
   "outputs": [],
   "source": [
    "nested_list = [1, 2, 3, ['a', 'b', 'c', ], 3.4, 5.5]"
   ]
  },
  {
   "cell_type": "code",
   "execution_count": 27,
   "id": "14a80fd6-51cf-4ca4-b180-44a2e7da2de6",
   "metadata": {},
   "outputs": [
    {
     "data": {
      "text/plain": [
       "['a', 'b', 'c']"
      ]
     },
     "execution_count": 27,
     "metadata": {},
     "output_type": "execute_result"
    }
   ],
   "source": [
    "nested_list[3]"
   ]
  },
  {
   "cell_type": "code",
   "execution_count": 28,
   "id": "b64d0125-c45a-49e5-a780-b85cc6f46346",
   "metadata": {},
   "outputs": [
    {
     "data": {
      "text/plain": [
       "'c'"
      ]
     },
     "execution_count": 28,
     "metadata": {},
     "output_type": "execute_result"
    }
   ],
   "source": [
    "nested_list[3][2]"
   ]
  },
  {
   "cell_type": "code",
   "execution_count": 29,
   "id": "e184261c-2968-459c-bdca-d55233be1cf6",
   "metadata": {},
   "outputs": [
    {
     "data": {
      "text/plain": [
       "3.4"
      ]
     },
     "execution_count": 29,
     "metadata": {},
     "output_type": "execute_result"
    }
   ],
   "source": [
    "nested_list[4]"
   ]
  },
  {
   "cell_type": "markdown",
   "id": "afdf31dd-6301-44c6-84f0-8471137fcffa",
   "metadata": {},
   "source": [
    "#### Some arethmatic ops on lists:"
   ]
  },
  {
   "cell_type": "code",
   "execution_count": 30,
   "id": "d6b43095-742b-4117-8acf-eb1c64d9db2c",
   "metadata": {},
   "outputs": [],
   "source": [
    "l_1 = [1, 2, 3, 4, 5]\n",
    "l_2 = ['a', 'b', 'c', 'd']"
   ]
  },
  {
   "cell_type": "code",
   "execution_count": 31,
   "id": "221c086b-8fb6-4f34-ad23-01a7aa479f88",
   "metadata": {},
   "outputs": [
    {
     "data": {
      "text/plain": [
       "[1, 2, 3, 4, 5, 'a', 'b', 'c', 'd']"
      ]
     },
     "execution_count": 31,
     "metadata": {},
     "output_type": "execute_result"
    }
   ],
   "source": [
    "l_3 = l_1 + l_2\n",
    "l_3"
   ]
  },
  {
   "cell_type": "code",
   "execution_count": 32,
   "id": "f939b5c1-63a3-4505-8261-6e3d0937c599",
   "metadata": {},
   "outputs": [
    {
     "data": {
      "text/plain": [
       "[1,\n",
       " 2,\n",
       " 3,\n",
       " 4,\n",
       " 5,\n",
       " 'a',\n",
       " 'b',\n",
       " 'c',\n",
       " 'd',\n",
       " 1,\n",
       " 2,\n",
       " 3,\n",
       " 4,\n",
       " 5,\n",
       " 'a',\n",
       " 'b',\n",
       " 'c',\n",
       " 'd',\n",
       " 1,\n",
       " 2,\n",
       " 3,\n",
       " 4,\n",
       " 5,\n",
       " 'a',\n",
       " 'b',\n",
       " 'c',\n",
       " 'd']"
      ]
     },
     "execution_count": 32,
     "metadata": {},
     "output_type": "execute_result"
    }
   ],
   "source": [
    "l_3 = l_3 * 3\n",
    "l_3"
   ]
  },
  {
   "cell_type": "code",
   "execution_count": null,
   "id": "204e4e7c-1470-4232-ba2e-bd47551d2186",
   "metadata": {},
   "outputs": [],
   "source": []
  }
 ],
 "metadata": {
  "kernelspec": {
   "display_name": "Python 3 (ipykernel)",
   "language": "python",
   "name": "python3"
  },
  "language_info": {
   "codemirror_mode": {
    "name": "ipython",
    "version": 3
   },
   "file_extension": ".py",
   "mimetype": "text/x-python",
   "name": "python",
   "nbconvert_exporter": "python",
   "pygments_lexer": "ipython3",
   "version": "3.11.7"
  }
 },
 "nbformat": 4,
 "nbformat_minor": 5
}
