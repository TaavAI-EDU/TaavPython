{
 "cells": [
  {
   "cell_type": "code",
   "execution_count": 30,
   "id": "0eb84437-5274-4e48-aa91-26f37138678b",
   "metadata": {},
   "outputs": [],
   "source": [
    "def usser_input():\n",
    "\n",
    "    inps = input(\"enter grades and seprate it with space:\")\n",
    "\n",
    "    return inps"
   ]
  },
  {
   "cell_type": "code",
   "execution_count": 10,
   "id": "8e17bd26-3521-4def-a14d-58a1a5830b63",
   "metadata": {},
   "outputs": [],
   "source": [
    "def prepare_data(grades: str):\n",
    "\n",
    "    grade_list = grades.split()\n",
    "    convert_data = list(map(int, grade_list))\n",
    "\n",
    "    return convert_data"
   ]
  },
  {
   "cell_type": "code",
   "execution_count": 31,
   "id": "a2ca31f9-61eb-4091-8f9f-2097fccdb028",
   "metadata": {},
   "outputs": [],
   "source": [
    "def check_grade(grades):\n",
    "\n",
    "    # count_num = len(grades)\n",
    "    \n",
    "    for nums in grades:\n",
    "        \n",
    "        if (nums > 20) or (nums < 0):\n",
    "            return False\n",
    "\n",
    "    return True"
   ]
  },
  {
   "cell_type": "code",
   "execution_count": 32,
   "id": "d77ba0f0-6bf9-4e71-b388-a717b2d24b8e",
   "metadata": {},
   "outputs": [],
   "source": [
    "def avg(grade_list: list):\n",
    "\n",
    "    count_num = len(grade_list)\n",
    "    total = sum(grade_list)\n",
    "\n",
    "    avg_grade = total/count_num\n",
    "    \n",
    "    return avg_grade"
   ]
  },
  {
   "cell_type": "code",
   "execution_count": 33,
   "id": "1e804cbc-8513-4ad1-8691-b567e659a822",
   "metadata": {},
   "outputs": [],
   "source": [
    "def main():\n",
    "    \n",
    "    inps = usser_input()\n",
    "    res = prepare_data(inps)\n",
    "    check = check_grade(res)\n",
    "    \n",
    "    if (check == True):\n",
    "        avg_grade = avg(res)\n",
    "        return avg_grade\n",
    "    \n",
    "    else:\n",
    "        return \"Invalid Numbers\""
   ]
  },
  {
   "cell_type": "code",
   "execution_count": 34,
   "id": "95f1c245-f547-4351-a289-7847c8b72b06",
   "metadata": {},
   "outputs": [
    {
     "name": "stdin",
     "output_type": "stream",
     "text": [
      "enter grades and seprate it with space: 1 9 -1\n"
     ]
    },
    {
     "data": {
      "text/plain": [
       "'Invalid Numbers'"
      ]
     },
     "execution_count": 34,
     "metadata": {},
     "output_type": "execute_result"
    }
   ],
   "source": [
    "main()"
   ]
  },
  {
   "cell_type": "code",
   "execution_count": null,
   "id": "4cc27285-8660-4c07-8d2f-338841635c9c",
   "metadata": {},
   "outputs": [],
   "source": []
  }
 ],
 "metadata": {
  "kernelspec": {
   "display_name": "Python 3 (ipykernel)",
   "language": "python",
   "name": "python3"
  },
  "language_info": {
   "codemirror_mode": {
    "name": "ipython",
    "version": 3
   },
   "file_extension": ".py",
   "mimetype": "text/x-python",
   "name": "python",
   "nbconvert_exporter": "python",
   "pygments_lexer": "ipython3",
   "version": "3.11.7"
  }
 },
 "nbformat": 4,
 "nbformat_minor": 5
}
