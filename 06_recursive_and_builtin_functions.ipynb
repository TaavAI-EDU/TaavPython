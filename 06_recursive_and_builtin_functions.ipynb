{
 "cells": [
  {
   "cell_type": "markdown",
   "id": "89e0386c-90b7-457f-8ac1-64eb74418fee",
   "metadata": {},
   "source": [
    "## Builtin Functions in Python"
   ]
  },
  {
   "cell_type": "markdown",
   "id": "510c9119-de9a-435a-947f-8e7163a7c8f5",
   "metadata": {},
   "source": [
    "### lambda functions:"
   ]
  },
  {
   "cell_type": "markdown",
   "id": "f3e48dad-b079-4e0b-b180-be94bfb2624e",
   "metadata": {},
   "source": [
    "##### lambda is just like a function, means that we create a function but without define a name for it.\n",
    "\n",
    "###### No def func(): syntacs use here"
   ]
  },
  {
   "cell_type": "code",
   "execution_count": 39,
   "id": "89d38bf8-94aa-43b2-bae1-356ac65cd455",
   "metadata": {},
   "outputs": [],
   "source": [
    "operation = lambda x: pow(x, 4)"
   ]
  },
  {
   "cell_type": "code",
   "execution_count": 40,
   "id": "095ddb22-8a83-4841-989c-1a55ade7989e",
   "metadata": {},
   "outputs": [
    {
     "data": {
      "text/plain": [
       "16"
      ]
     },
     "execution_count": 40,
     "metadata": {},
     "output_type": "execute_result"
    }
   ],
   "source": [
    "operation(2)"
   ]
  },
  {
   "cell_type": "code",
   "execution_count": 49,
   "id": "06bb33a3-f4f4-4081-8624-446aef27a2b5",
   "metadata": {},
   "outputs": [],
   "source": [
    "my_list = [1, 2, 3, 4, 5, 6, 6]\n",
    "\n",
    "operation_2 = map(lambda x: pow(x, 4), my_list)"
   ]
  },
  {
   "cell_type": "code",
   "execution_count": 50,
   "id": "bd72847a-b7dd-4c96-a90d-4acf3002173e",
   "metadata": {},
   "outputs": [
    {
     "data": {
      "text/plain": [
       "<map at 0x7f93407daa70>"
      ]
     },
     "execution_count": 50,
     "metadata": {},
     "output_type": "execute_result"
    }
   ],
   "source": [
    "operation_2"
   ]
  },
  {
   "cell_type": "code",
   "execution_count": 51,
   "id": "ab80750a-5bda-46a8-b4f9-a01cb15df880",
   "metadata": {},
   "outputs": [
    {
     "data": {
      "text/plain": [
       "[1, 16, 81, 256, 625, 1296, 1296]"
      ]
     },
     "execution_count": 51,
     "metadata": {},
     "output_type": "execute_result"
    }
   ],
   "source": [
    "list(operation_2)"
   ]
  },
  {
   "cell_type": "code",
   "execution_count": 58,
   "id": "8b64867e-996c-4c0c-a660-2888516ebac4",
   "metadata": {},
   "outputs": [],
   "source": [
    "def is_even(number):\n",
    "    if number % 2 == 0:\n",
    "        return True\n",
    "    else:\n",
    "        return False"
   ]
  },
  {
   "cell_type": "code",
   "execution_count": 62,
   "id": "89075523-e256-4ed7-8ae1-0b64cdcc1276",
   "metadata": {},
   "outputs": [],
   "source": [
    "even_numbers = lambda x: x%2==0"
   ]
  },
  {
   "cell_type": "code",
   "execution_count": 64,
   "id": "14a323e0-1ba0-4bfd-9abb-b52f1b6166c0",
   "metadata": {},
   "outputs": [
    {
     "data": {
      "text/plain": [
       "False"
      ]
     },
     "execution_count": 64,
     "metadata": {},
     "output_type": "execute_result"
    }
   ],
   "source": [
    "even_numbers(5)"
   ]
  },
  {
   "cell_type": "markdown",
   "id": "a9733f02-34ce-4673-85e4-d13911ab6e82",
   "metadata": {},
   "source": [
    "### zip function:"
   ]
  },
  {
   "cell_type": "code",
   "execution_count": 52,
   "id": "497142db-7dd6-4f67-a3d2-b4fce08b1d98",
   "metadata": {},
   "outputs": [],
   "source": [
    "std_id = [123, 234, 345, 456]\n",
    "std_name = ['alex', 'bob', 'micky', 'gofie']"
   ]
  },
  {
   "cell_type": "code",
   "execution_count": 65,
   "id": "ea0247d4-94b1-457d-9498-3fbee37a6393",
   "metadata": {},
   "outputs": [
    {
     "data": {
      "text/plain": [
       "<zip at 0x7f93403be3c0>"
      ]
     },
     "execution_count": 65,
     "metadata": {},
     "output_type": "execute_result"
    }
   ],
   "source": [
    "data = zip(std_id, std_name)\n",
    "data"
   ]
  },
  {
   "cell_type": "code",
   "execution_count": 69,
   "id": "bca16655-00e3-4735-91b5-6526a20b6460",
   "metadata": {},
   "outputs": [
    {
     "data": {
      "text/plain": [
       "[(123, 'alex'), (234, 'bob'), (345, 'micky'), (456, 'gofie')]"
      ]
     },
     "execution_count": 69,
     "metadata": {},
     "output_type": "execute_result"
    }
   ],
   "source": [
    "list(data)"
   ]
  },
  {
   "cell_type": "code",
   "execution_count": null,
   "id": "e938a3b3-c501-443e-9695-e7c57a5d438d",
   "metadata": {},
   "outputs": [],
   "source": []
  },
  {
   "cell_type": "markdown",
   "id": "e2045f2c-a632-4986-a902-7800547325fa",
   "metadata": {},
   "source": [
    "### Numeric Functions:"
   ]
  },
  {
   "cell_type": "markdown",
   "id": "c2b37c0d-e54a-4a9f-afc1-28f279c6d8e6",
   "metadata": {},
   "source": [
    "#### sum(), min(), max, abs(), round(), pow()"
   ]
  },
  {
   "cell_type": "code",
   "execution_count": 77,
   "id": "cdb20371-5a09-4916-9735-5f90549018aa",
   "metadata": {},
   "outputs": [],
   "source": [
    "my_list = [-1, -2, -4, 0, 99, 24, 5.78, 9.0001]"
   ]
  },
  {
   "cell_type": "code",
   "execution_count": 78,
   "id": "607a84ba-df35-46e9-a2cd-ef7b3d14b6c8",
   "metadata": {},
   "outputs": [
    {
     "data": {
      "text/plain": [
       "130.7801"
      ]
     },
     "execution_count": 78,
     "metadata": {},
     "output_type": "execute_result"
    }
   ],
   "source": [
    "sum(my_list)"
   ]
  },
  {
   "cell_type": "code",
   "execution_count": 79,
   "id": "21c1143b-b274-41c4-9b15-7e0c6bd6b535",
   "metadata": {},
   "outputs": [
    {
     "data": {
      "text/plain": [
       "-4"
      ]
     },
     "execution_count": 79,
     "metadata": {},
     "output_type": "execute_result"
    }
   ],
   "source": [
    "min(my_list)"
   ]
  },
  {
   "cell_type": "code",
   "execution_count": 80,
   "id": "5329d681-f9f8-4dfb-9517-6349c1842bce",
   "metadata": {},
   "outputs": [
    {
     "data": {
      "text/plain": [
       "99"
      ]
     },
     "execution_count": 80,
     "metadata": {},
     "output_type": "execute_result"
    }
   ],
   "source": [
    "max(my_list)"
   ]
  },
  {
   "cell_type": "code",
   "execution_count": 81,
   "id": "9722805e-8eb6-412b-b160-1a7fff89c810",
   "metadata": {},
   "outputs": [
    {
     "data": {
      "text/plain": [
       "1"
      ]
     },
     "execution_count": 81,
     "metadata": {},
     "output_type": "execute_result"
    }
   ],
   "source": [
    "abs(my_list[0])"
   ]
  },
  {
   "cell_type": "code",
   "execution_count": 82,
   "id": "b5d9dfcb-6e48-4ec7-bd1e-7d27701d9b15",
   "metadata": {},
   "outputs": [
    {
     "data": {
      "text/plain": [
       "9"
      ]
     },
     "execution_count": 82,
     "metadata": {},
     "output_type": "execute_result"
    }
   ],
   "source": [
    "round(my_list[-1])"
   ]
  },
  {
   "cell_type": "code",
   "execution_count": 83,
   "id": "8deeed4e-8666-4f31-b5db-641a17028148",
   "metadata": {},
   "outputs": [
    {
     "data": {
      "text/plain": [
       "6"
      ]
     },
     "execution_count": 83,
     "metadata": {},
     "output_type": "execute_result"
    }
   ],
   "source": [
    "round(my_list[-2])"
   ]
  },
  {
   "cell_type": "code",
   "execution_count": null,
   "id": "2a217a91-5b7f-4150-9c12-03dfc376647c",
   "metadata": {},
   "outputs": [],
   "source": []
  },
  {
   "cell_type": "markdown",
   "id": "417ae511-465a-489d-8f0c-a35da61345d9",
   "metadata": {},
   "source": [
    "### Some String Builtin Function:"
   ]
  },
  {
   "cell_type": "markdown",
   "id": "43eca18c-1a2f-4743-b9e8-05c2c0e77c8f",
   "metadata": {},
   "source": [
    "##### len(), str(), ord(), chr()"
   ]
  },
  {
   "cell_type": "code",
   "execution_count": 102,
   "id": "0da4264c-e494-403b-ae23-8997ba21d983",
   "metadata": {},
   "outputs": [],
   "source": [
    "text = \"Python is an interpreted, object-oriented, high-level programming language with dynamic semantics.\""
   ]
  },
  {
   "cell_type": "code",
   "execution_count": 97,
   "id": "90c6a39a-71b5-49bc-967b-56949244a87b",
   "metadata": {},
   "outputs": [
    {
     "data": {
      "text/plain": [
       "98"
      ]
     },
     "execution_count": 97,
     "metadata": {},
     "output_type": "execute_result"
    }
   ],
   "source": [
    "len(text)"
   ]
  },
  {
   "cell_type": "code",
   "execution_count": 103,
   "id": "d5660389-5b42-4f2e-97bb-66a4eba15bf7",
   "metadata": {},
   "outputs": [
    {
     "data": {
      "text/plain": [
       "'35'"
      ]
     },
     "execution_count": 103,
     "metadata": {},
     "output_type": "execute_result"
    }
   ],
   "source": [
    "str(35)"
   ]
  },
  {
   "cell_type": "code",
   "execution_count": 110,
   "id": "a7a50cc2-be90-4b8c-b290-d9bfd1881228",
   "metadata": {},
   "outputs": [
    {
     "data": {
      "text/plain": [
       "97"
      ]
     },
     "execution_count": 110,
     "metadata": {},
     "output_type": "execute_result"
    }
   ],
   "source": [
    "ord('a')"
   ]
  },
  {
   "cell_type": "code",
   "execution_count": 112,
   "id": "2346dbff-0dd9-4240-97a3-ece12cd3651e",
   "metadata": {},
   "outputs": [
    {
     "data": {
      "text/plain": [
       "'a'"
      ]
     },
     "execution_count": 112,
     "metadata": {},
     "output_type": "execute_result"
    }
   ],
   "source": [
    "chr(97)"
   ]
  },
  {
   "cell_type": "code",
   "execution_count": 121,
   "id": "91d854d8-cde9-4419-9f08-0b84ab1292df",
   "metadata": {},
   "outputs": [],
   "source": [
    "check = ['A', 'a', '95', '70', 'z', 'Z']"
   ]
  },
  {
   "cell_type": "code",
   "execution_count": 128,
   "id": "dbe13ceb-c3e6-4e4b-a4c1-7f084833be97",
   "metadata": {},
   "outputs": [],
   "source": [
    "def check_the_alph(chars):\n",
    "\n",
    "    res = {}\n",
    "    \n",
    "    for i in chars:\n",
    "\n",
    "        if i.isalpha():\n",
    "            res[i] = ord(i)\n",
    "\n",
    "        elif i.isdigit():\n",
    "            res[i] = chr(int(i))\n",
    "\n",
    "    return res\n",
    "            "
   ]
  },
  {
   "cell_type": "code",
   "execution_count": 129,
   "id": "22ba8337-2bf0-4434-b24f-44c509b750ec",
   "metadata": {},
   "outputs": [
    {
     "data": {
      "text/plain": [
       "{'A': 65, 'a': 97, '95': '_', '70': 'F', 'z': 122, 'Z': 90}"
      ]
     },
     "execution_count": 129,
     "metadata": {},
     "output_type": "execute_result"
    }
   ],
   "source": [
    "check_the_alph(check)"
   ]
  },
  {
   "cell_type": "code",
   "execution_count": null,
   "id": "c899b1b1-f9d1-4671-b5ef-19d599353972",
   "metadata": {},
   "outputs": [],
   "source": []
  },
  {
   "cell_type": "markdown",
   "id": "1b58ccae-2f90-4e45-9996-2184031f0d9b",
   "metadata": {},
   "source": [
    "## Recursive Functions:"
   ]
  },
  {
   "cell_type": "markdown",
   "id": "42712294-2c4d-4589-97c0-816223d751f1",
   "metadata": {},
   "source": [
    "#### World wide easiest sample FACTORIAL  ^_*"
   ]
  },
  {
   "cell_type": "markdown",
   "id": "e577263b-62e7-419c-9e61-efa04e98bb52",
   "metadata": {},
   "source": [
    "#### The sequence for 5(for instance) is:\n",
    "\n",
    "#### 5 * 4 * 3 * 2 * 1"
   ]
  },
  {
   "cell_type": "code",
   "execution_count": 132,
   "id": "672e1c33-c4c5-4b8b-bf62-88f763cd1cfa",
   "metadata": {},
   "outputs": [],
   "source": [
    "def fact(number):\n",
    "\n",
    "    if number == 1:\n",
    "        return 1\n",
    "\n",
    "    else:\n",
    "        return number*fact(number-1)"
   ]
  },
  {
   "cell_type": "code",
   "execution_count": 133,
   "id": "828ec3e4-782d-408a-8bbe-ab89858754ea",
   "metadata": {},
   "outputs": [
    {
     "data": {
      "text/plain": [
       "362880"
      ]
     },
     "execution_count": 133,
     "metadata": {},
     "output_type": "execute_result"
    }
   ],
   "source": [
    "fact(9)"
   ]
  },
  {
   "cell_type": "markdown",
   "id": "f120184c-b1b0-4c0f-9929-519e2d245bd7",
   "metadata": {},
   "source": [
    "### Fibo:"
   ]
  },
  {
   "cell_type": "markdown",
   "id": "e5c943c2-cb8c-489f-9cb9-65d9d3d65850",
   "metadata": {},
   "source": [
    "#### 1, 1, 2, 3, 5, 8, 13, 21, ..."
   ]
  },
  {
   "cell_type": "code",
   "execution_count": 155,
   "id": "68d902b4-6347-48f0-9c9f-80197fe4e919",
   "metadata": {},
   "outputs": [],
   "source": [
    "def fibo(n):\n",
    "\n",
    "    if (n == 0) or (n == 1):\n",
    "        return 1\n",
    "\n",
    "    else:\n",
    "        return (fibo(n-1) + fibo(n-2))"
   ]
  },
  {
   "cell_type": "code",
   "execution_count": 156,
   "id": "eaa2a8ad-4516-44c2-a37c-1ae31c6bbb45",
   "metadata": {},
   "outputs": [
    {
     "data": {
      "text/plain": [
       "1"
      ]
     },
     "execution_count": 156,
     "metadata": {},
     "output_type": "execute_result"
    }
   ],
   "source": [
    "fibo(1)"
   ]
  },
  {
   "cell_type": "code",
   "execution_count": 157,
   "id": "ebf1f558-b9e2-4c3f-b090-1956d00204c9",
   "metadata": {},
   "outputs": [
    {
     "data": {
      "text/plain": [
       "21"
      ]
     },
     "execution_count": 157,
     "metadata": {},
     "output_type": "execute_result"
    }
   ],
   "source": [
    "fibo(7)"
   ]
  },
  {
   "cell_type": "code",
   "execution_count": 159,
   "id": "66869500-8367-49a2-a428-b54bf82df76f",
   "metadata": {},
   "outputs": [],
   "source": [
    "def till_number(number):\n",
    "\n",
    "    for i in range(number+1):\n",
    "        print(fibo(i))"
   ]
  },
  {
   "cell_type": "code",
   "execution_count": 160,
   "id": "aaa27592-c802-4d5d-9ce0-3d936159ec06",
   "metadata": {},
   "outputs": [
    {
     "name": "stdout",
     "output_type": "stream",
     "text": [
      "1\n",
      "1\n",
      "2\n",
      "3\n",
      "5\n",
      "8\n",
      "13\n",
      "21\n"
     ]
    }
   ],
   "source": [
    "till_number(7)"
   ]
  },
  {
   "cell_type": "markdown",
   "id": "c30d5415-6dbc-4ef2-b100-9909cc91dc9e",
   "metadata": {},
   "source": [
    "# BUT NOT EFFICIENT AT ALL"
   ]
  },
  {
   "cell_type": "markdown",
   "id": "b5fcf138-2c7f-4107-8031-fe2026f5dabf",
   "metadata": {},
   "source": [
    "### So what to do is using dear dictionary"
   ]
  },
  {
   "cell_type": "code",
   "execution_count": 143,
   "id": "bf590494-7d45-4f74-bde1-4335fb43b1a6",
   "metadata": {},
   "outputs": [],
   "source": [
    "def fibo_dict(number, d):\n",
    "\n",
    "    if number in d:\n",
    "        return d[number]\n",
    "\n",
    "    else:\n",
    "        res = fibo_dict(number-1, d) + fibo_dict(number-2, d)\n",
    "        d[number] = res\n",
    "        \n",
    "        return res\n",
    "\n",
    "def main():\n",
    "\n",
    "    user_inp = int(input(\"which sentence do you wanna see the fibonachi result?\"))\n",
    "    \n",
    "    my_fibo_dict = {\n",
    "        1: 1,\n",
    "        2: 1,\n",
    "    }\n",
    "\n",
    "    \n",
    "    res = fibo_dict(user_inp, my_fibo_dict)\n",
    "\n",
    "    return res\n",
    "    "
   ]
  },
  {
   "cell_type": "code",
   "execution_count": 144,
   "id": "7fe01d0b-f21d-4ed5-bb33-15ab8cd13742",
   "metadata": {},
   "outputs": [
    {
     "name": "stdin",
     "output_type": "stream",
     "text": [
      "which sentence do you wanna see the fibonachi result? 7\n"
     ]
    },
    {
     "data": {
      "text/plain": [
       "13"
      ]
     },
     "execution_count": 144,
     "metadata": {},
     "output_type": "execute_result"
    }
   ],
   "source": [
    "main()"
   ]
  },
  {
   "cell_type": "markdown",
   "id": "0648dfd5-f8a5-4208-8eb5-0528ec803f8d",
   "metadata": {},
   "source": [
    "### Home Work:\n",
    "#### Tower Honoi"
   ]
  },
  {
   "cell_type": "code",
   "execution_count": 163,
   "id": "6edf9779-64aa-42eb-b639-dbc432d88f0b",
   "metadata": {},
   "outputs": [],
   "source": [
    "def p(fr, to):\n",
    "    print(f\"move from {fr}, to {to}\")\n",
    "\n",
    "\n",
    "def move(n, fr, to, spare):\n",
    "\n",
    "    if n == 1:\n",
    "        p(fr, to)\n",
    "\n",
    "    else:\n",
    "        move(n-1, fr, spare, to)\n",
    "        move(1, fr, to, spare)\n",
    "        move(n-1, spare, to, fr)"
   ]
  },
  {
   "cell_type": "code",
   "execution_count": 164,
   "id": "2b0e0b8b-d981-4c30-8364-0580f6204363",
   "metadata": {},
   "outputs": [
    {
     "name": "stdout",
     "output_type": "stream",
     "text": [
      "move from a, to b\n",
      "move from a, to c\n",
      "move from b, to c\n",
      "move from a, to b\n",
      "move from c, to a\n",
      "move from c, to b\n",
      "move from a, to b\n"
     ]
    }
   ],
   "source": [
    "move(3, 'a', 'b', 'c')"
   ]
  },
  {
   "cell_type": "code",
   "execution_count": null,
   "id": "981a33d4-724f-4466-b6af-25564ab7c6fe",
   "metadata": {},
   "outputs": [],
   "source": []
  },
  {
   "cell_type": "markdown",
   "id": "ea9d58f1-f4d3-40b3-8837-6988abea2f82",
   "metadata": {},
   "source": [
    "### Files\n",
    "#### open, read, write\n",
    "##### mode: r, w, a, b"
   ]
  },
  {
   "cell_type": "code",
   "execution_count": 169,
   "id": "2ee699fa-bbf0-4a5d-a82c-34089f029ed7",
   "metadata": {},
   "outputs": [
    {
     "data": {
      "text/plain": [
       "<_io.TextIOWrapper name='example.txt' mode='w' encoding='UTF-8'>"
      ]
     },
     "execution_count": 169,
     "metadata": {},
     "output_type": "execute_result"
    }
   ],
   "source": [
    "my_file = open('example.txt', 'w')\n",
    "my_file"
   ]
  },
  {
   "cell_type": "code",
   "execution_count": 170,
   "id": "501971a6-3fb2-4eb4-b67d-5d470474ee85",
   "metadata": {},
   "outputs": [],
   "source": [
    "my_file.close()"
   ]
  },
  {
   "cell_type": "code",
   "execution_count": null,
   "id": "177fdb0a-7654-48b0-a268-0aa2b5f227a3",
   "metadata": {},
   "outputs": [],
   "source": []
  }
 ],
 "metadata": {
  "kernelspec": {
   "display_name": "Python 3 (ipykernel)",
   "language": "python",
   "name": "python3"
  },
  "language_info": {
   "codemirror_mode": {
    "name": "ipython",
    "version": 3
   },
   "file_extension": ".py",
   "mimetype": "text/x-python",
   "name": "python",
   "nbconvert_exporter": "python",
   "pygments_lexer": "ipython3",
   "version": "3.11.7"
  }
 },
 "nbformat": 4,
 "nbformat_minor": 5
}
