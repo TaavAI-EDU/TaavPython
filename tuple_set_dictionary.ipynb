{
 "cells": [
  {
   "cell_type": "markdown",
   "id": "6bef7d3d-2db2-4731-909e-5b2e3122f46d",
   "metadata": {},
   "source": [
    "## Tuple:"
   ]
  },
  {
   "cell_type": "markdown",
   "id": "37ab1e91-b0ec-4282-95d9-e789183013f0",
   "metadata": {},
   "source": [
    "#### Tuples are immutabel data types and defined by ( ):"
   ]
  },
  {
   "cell_type": "code",
   "execution_count": 1,
   "id": "d1d51979-5448-4744-b621-43d65ca3756f",
   "metadata": {},
   "outputs": [],
   "source": [
    "t = (1, 2, 3)"
   ]
  },
  {
   "cell_type": "code",
   "execution_count": 2,
   "id": "40ed863d-6fdc-497d-b011-d6d645fd67d6",
   "metadata": {},
   "outputs": [
    {
     "data": {
      "text/plain": [
       "tuple"
      ]
     },
     "execution_count": 2,
     "metadata": {},
     "output_type": "execute_result"
    }
   ],
   "source": [
    "type(t)"
   ]
  },
  {
   "cell_type": "code",
   "execution_count": 3,
   "id": "14e63667-1165-4c90-8d98-e9fa9f8b7bd7",
   "metadata": {},
   "outputs": [
    {
     "data": {
      "text/plain": [
       "1"
      ]
     },
     "execution_count": 3,
     "metadata": {},
     "output_type": "execute_result"
    }
   ],
   "source": [
    "t[0]"
   ]
  },
  {
   "cell_type": "code",
   "execution_count": 4,
   "id": "1f7b7e0d-2a96-47d5-a488-0a4f59306667",
   "metadata": {},
   "outputs": [
    {
     "ename": "TypeError",
     "evalue": "'tuple' object does not support item assignment",
     "output_type": "error",
     "traceback": [
      "\u001b[0;31m---------------------------------------------------------------------------\u001b[0m",
      "\u001b[0;31mTypeError\u001b[0m                                 Traceback (most recent call last)",
      "Cell \u001b[0;32mIn[4], line 1\u001b[0m\n\u001b[0;32m----> 1\u001b[0m \u001b[43mt\u001b[49m\u001b[43m[\u001b[49m\u001b[38;5;241;43m0\u001b[39;49m\u001b[43m]\u001b[49m \u001b[38;5;241m=\u001b[39m \u001b[38;5;241m1\u001b[39m\n",
      "\u001b[0;31mTypeError\u001b[0m: 'tuple' object does not support item assignment"
     ]
    }
   ],
   "source": [
    "t[0] = 1"
   ]
  },
  {
   "cell_type": "markdown",
   "id": "2e6ee089-2c7e-49cc-a063-1fca9d463599",
   "metadata": {},
   "source": [
    "> the error is occured becuase tuples are not mutable."
   ]
  },
  {
   "cell_type": "markdown",
   "id": "3c66027e-9adc-47b6-bdf3-efeda4702d84",
   "metadata": {},
   "source": [
    "#### But in one condition you'll be able to change the elements, if using list in a tuple...."
   ]
  },
  {
   "cell_type": "code",
   "execution_count": 5,
   "id": "b53054fe-1959-4d88-b85e-6426d8b9272d",
   "metadata": {},
   "outputs": [],
   "source": [
    "t_1 = (1, 2, ['a', 'b', 'c'], 45, 6.5)"
   ]
  },
  {
   "cell_type": "code",
   "execution_count": 6,
   "id": "e40c10b6-91c6-4ef3-b0ae-e177ee47711f",
   "metadata": {},
   "outputs": [
    {
     "data": {
      "text/plain": [
       "tuple"
      ]
     },
     "execution_count": 6,
     "metadata": {},
     "output_type": "execute_result"
    }
   ],
   "source": [
    "type(t_1)"
   ]
  },
  {
   "cell_type": "code",
   "execution_count": 10,
   "id": "755e8bbc-2bc4-44e6-95c0-c06ad1b5657e",
   "metadata": {},
   "outputs": [],
   "source": [
    "t_1[2][0] = 'z'  # change an element in a list which is in a tuple"
   ]
  },
  {
   "cell_type": "code",
   "execution_count": 8,
   "id": "e1522ad7-a131-4f5a-9202-a28dffad030b",
   "metadata": {},
   "outputs": [
    {
     "data": {
      "text/plain": [
       "(1, 2, ['z', 'b', 'c'], 45, 6.5)"
      ]
     },
     "execution_count": 8,
     "metadata": {},
     "output_type": "execute_result"
    }
   ],
   "source": [
    "t_1"
   ]
  },
  {
   "cell_type": "markdown",
   "id": "ddd0a049-bcad-4cb1-82c7-bc3e5cf19b29",
   "metadata": {},
   "source": [
    "##### If the tuple has only one elemet, it is needed to define that with a comma! Otherewise the type wont be a tuple:"
   ]
  },
  {
   "cell_type": "code",
   "execution_count": 11,
   "id": "a97c4ede-8751-4d77-802f-9982499350a5",
   "metadata": {},
   "outputs": [],
   "source": [
    "t_3 = (1,)"
   ]
  },
  {
   "cell_type": "code",
   "execution_count": 12,
   "id": "9a3fb477-38ab-4dc3-a505-3be8e7dabe5c",
   "metadata": {},
   "outputs": [],
   "source": [
    "t_4 = (1)"
   ]
  },
  {
   "cell_type": "code",
   "execution_count": 13,
   "id": "b892ae79-ab53-4421-8788-4cea13a3d502",
   "metadata": {},
   "outputs": [
    {
     "data": {
      "text/plain": [
       "tuple"
      ]
     },
     "execution_count": 13,
     "metadata": {},
     "output_type": "execute_result"
    }
   ],
   "source": [
    "type(t_3)"
   ]
  },
  {
   "cell_type": "code",
   "execution_count": 14,
   "id": "8c8e9a8a-11f3-4063-ac60-cc7ee6a6b911",
   "metadata": {},
   "outputs": [
    {
     "data": {
      "text/plain": [
       "int"
      ]
     },
     "execution_count": 14,
     "metadata": {},
     "output_type": "execute_result"
    }
   ],
   "source": [
    "type(t_4)"
   ]
  },
  {
   "cell_type": "markdown",
   "id": "bc4974b3-db0d-4fd3-9a58-0bfcb0aca349",
   "metadata": {},
   "source": [
    "## Set:"
   ]
  },
  {
   "cell_type": "markdown",
   "id": "4dfd9ff1-3db5-4156-aa29-1c41132360ed",
   "metadata": {},
   "source": [
    "### Sets are always use for searching in other data types.\n",
    "\n",
    "### They define with {} and there will be unique elements in it."
   ]
  },
  {
   "cell_type": "code",
   "execution_count": 15,
   "id": "d8674d7d-ee91-427e-a9ba-1aec91282b84",
   "metadata": {},
   "outputs": [],
   "source": [
    "s = {1, 2, 3, 4}"
   ]
  },
  {
   "cell_type": "code",
   "execution_count": 16,
   "id": "d7f16940-eed3-45db-8ac6-05035c78c04b",
   "metadata": {},
   "outputs": [
    {
     "data": {
      "text/plain": [
       "set"
      ]
     },
     "execution_count": 16,
     "metadata": {},
     "output_type": "execute_result"
    }
   ],
   "source": [
    "type(s)"
   ]
  },
  {
   "cell_type": "code",
   "execution_count": 21,
   "id": "807120ef-57b7-4252-98fc-5c3f2c0790e6",
   "metadata": {},
   "outputs": [
    {
     "ename": "TypeError",
     "evalue": "'set' object is not subscriptable",
     "output_type": "error",
     "traceback": [
      "\u001b[0;31m---------------------------------------------------------------------------\u001b[0m",
      "\u001b[0;31mTypeError\u001b[0m                                 Traceback (most recent call last)",
      "Cell \u001b[0;32mIn[21], line 1\u001b[0m\n\u001b[0;32m----> 1\u001b[0m \u001b[43ms\u001b[49m\u001b[43m[\u001b[49m\u001b[38;5;241;43m0\u001b[39;49m\u001b[43m]\u001b[49m\n",
      "\u001b[0;31mTypeError\u001b[0m: 'set' object is not subscriptable"
     ]
    }
   ],
   "source": [
    "s[0]"
   ]
  },
  {
   "cell_type": "markdown",
   "id": "55a959ad-905d-4a5e-a032-8a82a5a19a6b",
   "metadata": {},
   "source": [
    "> The error is occured because there is no indexing in sets!!!"
   ]
  },
  {
   "cell_type": "code",
   "execution_count": 1,
   "id": "cf4d3f98-d5a8-4f2b-8c73-0c6f1665eda5",
   "metadata": {},
   "outputs": [],
   "source": [
    "s_1 = {1, 1, 1, 1}  # there are always unique elements"
   ]
  },
  {
   "cell_type": "code",
   "execution_count": 18,
   "id": "10e43d27-7aee-4e53-8dff-fe4154e72b80",
   "metadata": {},
   "outputs": [
    {
     "data": {
      "text/plain": [
       "{1}"
      ]
     },
     "execution_count": 18,
     "metadata": {},
     "output_type": "execute_result"
    }
   ],
   "source": [
    "s_1"
   ]
  },
  {
   "cell_type": "code",
   "execution_count": 22,
   "id": "7e87b0df-0498-447c-99b8-045c554f2fdd",
   "metadata": {
    "scrolled": true
   },
   "outputs": [
    {
     "data": {
      "text/plain": [
       "['__and__',\n",
       " '__class__',\n",
       " '__class_getitem__',\n",
       " '__contains__',\n",
       " '__delattr__',\n",
       " '__dir__',\n",
       " '__doc__',\n",
       " '__eq__',\n",
       " '__format__',\n",
       " '__ge__',\n",
       " '__getattribute__',\n",
       " '__getstate__',\n",
       " '__gt__',\n",
       " '__hash__',\n",
       " '__iand__',\n",
       " '__init__',\n",
       " '__init_subclass__',\n",
       " '__ior__',\n",
       " '__isub__',\n",
       " '__iter__',\n",
       " '__ixor__',\n",
       " '__le__',\n",
       " '__len__',\n",
       " '__lt__',\n",
       " '__ne__',\n",
       " '__new__',\n",
       " '__or__',\n",
       " '__rand__',\n",
       " '__reduce__',\n",
       " '__reduce_ex__',\n",
       " '__repr__',\n",
       " '__ror__',\n",
       " '__rsub__',\n",
       " '__rxor__',\n",
       " '__setattr__',\n",
       " '__sizeof__',\n",
       " '__str__',\n",
       " '__sub__',\n",
       " '__subclasshook__',\n",
       " '__xor__',\n",
       " 'add',\n",
       " 'clear',\n",
       " 'copy',\n",
       " 'difference',\n",
       " 'difference_update',\n",
       " 'discard',\n",
       " 'intersection',\n",
       " 'intersection_update',\n",
       " 'isdisjoint',\n",
       " 'issubset',\n",
       " 'issuperset',\n",
       " 'pop',\n",
       " 'remove',\n",
       " 'symmetric_difference',\n",
       " 'symmetric_difference_update',\n",
       " 'union',\n",
       " 'update']"
      ]
     },
     "execution_count": 22,
     "metadata": {},
     "output_type": "execute_result"
    }
   ],
   "source": [
    "# have look on its methods:\n",
    "dir(s)"
   ]
  },
  {
   "cell_type": "markdown",
   "id": "fb40d1fe-be6e-4e71-a2d6-1d8314e28cfe",
   "metadata": {},
   "source": [
    "## Dictionaries:"
   ]
  },
  {
   "cell_type": "markdown",
   "id": "1ef118b8-d332-4840-8ab9-1325ad92dcd5",
   "metadata": {},
   "source": [
    "### They define with {} like sets, but it is key and value there."
   ]
  },
  {
   "cell_type": "code",
   "execution_count": 23,
   "id": "1b979bee-8ab2-45bd-89e1-2edc2f4cb323",
   "metadata": {},
   "outputs": [],
   "source": [
    "d = {\n",
    "    'k_1': 'v_1',\n",
    "    'k_2': 'v_2',\n",
    "    'k_3': 'v_3',\n",
    "}"
   ]
  },
  {
   "cell_type": "code",
   "execution_count": 24,
   "id": "d79fc1fe-919b-41d8-ac5a-fa6e1c9cdba1",
   "metadata": {},
   "outputs": [
    {
     "data": {
      "text/plain": [
       "{'k_1': 'v_1', 'k_2': 'v_2', 'k_3': 'v_3'}"
      ]
     },
     "execution_count": 24,
     "metadata": {},
     "output_type": "execute_result"
    }
   ],
   "source": [
    "d"
   ]
  },
  {
   "cell_type": "code",
   "execution_count": 25,
   "id": "105aab69-e01c-4f75-b7c9-a81b20df8d89",
   "metadata": {},
   "outputs": [
    {
     "data": {
      "text/plain": [
       "dict"
      ]
     },
     "execution_count": 25,
     "metadata": {},
     "output_type": "execute_result"
    }
   ],
   "source": [
    "type(d)"
   ]
  },
  {
   "cell_type": "markdown",
   "id": "18af4871-16fa-473f-a975-e13eb664bdeb",
   "metadata": {},
   "source": [
    "#### Indexing :"
   ]
  },
  {
   "cell_type": "code",
   "execution_count": 26,
   "id": "d2b9ebc7-bf75-46d3-8e5a-f3260661025e",
   "metadata": {},
   "outputs": [
    {
     "data": {
      "text/plain": [
       "'v_1'"
      ]
     },
     "execution_count": 26,
     "metadata": {},
     "output_type": "execute_result"
    }
   ],
   "source": [
    "d['k_1']"
   ]
  },
  {
   "cell_type": "code",
   "execution_count": 27,
   "id": "64acd1cb-2ac1-436b-9762-5016b86ebee4",
   "metadata": {},
   "outputs": [
    {
     "data": {
      "text/plain": [
       "dict_keys(['k_1', 'k_2', 'k_3'])"
      ]
     },
     "execution_count": 27,
     "metadata": {},
     "output_type": "execute_result"
    }
   ],
   "source": [
    "d.keys()"
   ]
  },
  {
   "cell_type": "code",
   "execution_count": 28,
   "id": "d98f5e84-8b35-427c-8c48-75d8a6e30009",
   "metadata": {},
   "outputs": [
    {
     "data": {
      "text/plain": [
       "dict_values(['v_1', 'v_2', 'v_3'])"
      ]
     },
     "execution_count": 28,
     "metadata": {},
     "output_type": "execute_result"
    }
   ],
   "source": [
    "d.values()"
   ]
  },
  {
   "cell_type": "markdown",
   "id": "cc2db2ed-65cb-40e6-bff3-c5e8280906a4",
   "metadata": {},
   "source": [
    "### Be aware that keys should be a hashable data types, like strings and integers.\n",
    "\n",
    "### In case that the all datas in tuple is hashabe, then that tuple can be hashble too."
   ]
  },
  {
   "cell_type": "markdown",
   "id": "b438cb00-dc2f-4dfd-84e6-08dad09912a9",
   "metadata": {},
   "source": [
    "#### BUT, lists, sets and dictionaris are NOT hashabel so DO NOT USE THEM AS DICTIONARY KEYS."
   ]
  },
  {
   "cell_type": "markdown",
   "id": "8c0277b8-6444-451a-95da-40b600662f59",
   "metadata": {},
   "source": [
    "# Challange ..."
   ]
  },
  {
   "cell_type": "markdown",
   "id": "bae11d16-b919-4f5f-8dec-46bd25fb21f0",
   "metadata": {},
   "source": [
    "## How to change the key types in a dictionary?"
   ]
  },
  {
   "cell_type": "code",
   "execution_count": 38,
   "id": "699ca0b3-65e2-4902-8308-0ebee8d40d70",
   "metadata": {},
   "outputs": [],
   "source": [
    "d_2 = {\n",
    "    1: 1,\n",
    "    2: 2,\n",
    "    3: 3,\n",
    "}"
   ]
  },
  {
   "cell_type": "markdown",
   "id": "fd9b0d1c-2c83-442a-88eb-3bb79ea2547f",
   "metadata": {},
   "source": [
    "# Solution 1"
   ]
  },
  {
   "cell_type": "code",
   "execution_count": 40,
   "id": "a222a659-0779-4cee-8c1d-697f1a3ef5a3",
   "metadata": {},
   "outputs": [
    {
     "data": {
      "text/plain": [
       "{'1': 1, '2': 2, '3': 3}"
      ]
     },
     "execution_count": 40,
     "metadata": {},
     "output_type": "execute_result"
    }
   ],
   "source": [
    "key_values = []\n",
    "\n",
    "for i in d_2.keys():\n",
    "    key_values.append((str(i), d_2[i]))\n",
    "\n",
    "d_2 = dict(key_values)\n",
    "d_2"
   ]
  },
  {
   "cell_type": "markdown",
   "id": "51f11a6d-b3ae-4981-955f-05182b50bcad",
   "metadata": {},
   "source": [
    "# Solution 2"
   ]
  },
  {
   "cell_type": "code",
   "execution_count": 52,
   "id": "20fbefb1-77df-4701-b005-bead53d0b064",
   "metadata": {},
   "outputs": [
    {
     "data": {
      "text/plain": [
       "{'1': 1, '2': 2, '3': 3}"
      ]
     },
     "execution_count": 52,
     "metadata": {},
     "output_type": "execute_result"
    }
   ],
   "source": [
    "d_k = tuple(d_2.keys())     # Or convert it to a list\n",
    "d_v = tuple(d_2.values())   # Or conver it to a list\n",
    "k_v = zip(d_k, d_v)         # zip the keys and values\n",
    "\n",
    "new_dict = dict(k_v)\n",
    "new_dict"
   ]
  },
  {
   "cell_type": "code",
   "execution_count": null,
   "id": "aebbd02c-2934-4fa1-94f0-3bb99defe13d",
   "metadata": {},
   "outputs": [],
   "source": []
  }
 ],
 "metadata": {
  "kernelspec": {
   "display_name": "Python 3 (ipykernel)",
   "language": "python",
   "name": "python3"
  },
  "language_info": {
   "codemirror_mode": {
    "name": "ipython",
    "version": 3
   },
   "file_extension": ".py",
   "mimetype": "text/x-python",
   "name": "python",
   "nbconvert_exporter": "python",
   "pygments_lexer": "ipython3",
   "version": "3.11.7"
  }
 },
 "nbformat": 4,
 "nbformat_minor": 5
}
